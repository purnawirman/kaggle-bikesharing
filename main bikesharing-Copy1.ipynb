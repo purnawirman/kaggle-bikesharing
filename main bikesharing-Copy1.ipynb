{
 "cells": [
  {
   "cell_type": "markdown",
   "metadata": {},
   "source": [
    "Initializing library"
   ]
  },
  {
   "cell_type": "code",
   "execution_count": 3,
   "metadata": {
    "collapsed": true
   },
   "outputs": [],
   "source": [
    "import pandas as pd\n",
    "import numpy as np\n",
    "import pylab as P\n",
    "%matplotlib inline\n",
    "import matplotlib.pyplot as plt\n",
    "from scipy import stats\n",
    "\n",
    "# use seaborn plotting defaults\n",
    "import seaborn as sns; sns.set()"
   ]
  },
  {
   "cell_type": "markdown",
   "metadata": {},
   "source": [
    "Read the data into python and clean up the data"
   ]
  },
  {
   "cell_type": "code",
   "execution_count": 4,
   "metadata": {
    "collapsed": true
   },
   "outputs": [],
   "source": [
    "df = pd.read_csv(\"data/train.csv\")\n",
    "df_test = pd.read_csv(\"data/test.csv\")"
   ]
  },
  {
   "cell_type": "markdown",
   "metadata": {},
   "source": [
    "The variable datetime consist of hour and date of the count. We try to divide data into hourly information (e.g. morning, brunch, lunch, etc...). Second and minute information is useless (since all of them are zeros).\n",
    "\n",
    "Edit: I separated the weather category to its own feature. Improve by tiny amount.\n",
    "\n",
    "Edit2: I categorized according to day of the week.\n",
    "\n",
    "Edit3: I separated by hour category to its own feature."
   ]
  },
  {
   "cell_type": "code",
   "execution_count": 87,
   "metadata": {
    "collapsed": false
   },
   "outputs": [],
   "source": [
    "from datetime import date as datepy\n",
    "\n",
    "year = np.zeros(len(df))\n",
    "month = np.zeros(len(df))\n",
    "date = np.zeros(len(df))\n",
    "hour = np.zeros(len(df))\n",
    "minute = np.zeros(len(df))\n",
    "second = np.zeros(len(df))\n",
    "weekday = np.zeros(len(df))\n",
    "\n",
    "for i in range(len(df.datetime)):\n",
    "    year[i] = df['datetime'][i][0:4]\n",
    "    month[i] = df['datetime'][i][5:7]\n",
    "    date[i] = df['datetime'][i][8:10]\n",
    "    hour[i] = df['datetime'][i][11:13]\n",
    "    weekday[i] = datepy(int(year[i]),int(month[i]),int(date[i])).isoweekday()\n",
    "\n",
    "df['year'] = year\n",
    "df['month'] = month\n",
    "df['date'] = date\n",
    "df['hour'] = hour\n",
    "df['weather1'] = df['weather'].map(lambda x: float(x==1))\n",
    "df['weather2'] = df['weather'].map(lambda x: float(x==2))\n",
    "df['weather3'] = df['weather'].map(lambda x: float(x==3))\n",
    "df['weather4'] = df['weather'].map(lambda x: float(x==4))\n",
    "df['weekday'] = weekday\n",
    "\n",
    "df['hour1'] = df['hour'].map(lambda x: float(x==1))\n",
    "df['hour2'] = df['hour'].map(lambda x: float(x==2))\n",
    "df['hour3'] = df['hour'].map(lambda x: float(x==3))\n",
    "df['hour4'] = df['hour'].map(lambda x: float(x==4))\n",
    "df['hour5'] = df['hour'].map(lambda x: float(x==5))\n",
    "df['hour6'] = df['hour'].map(lambda x: float(x==6))\n",
    "df['hour7'] = df['hour'].map(lambda x: float(x==7))\n",
    "df['hour8'] = df['hour'].map(lambda x: float(x==8))\n",
    "df['hour9'] = df['hour'].map(lambda x: float(x==9))\n",
    "df['hour10'] = df['hour'].map(lambda x: float(x==10))\n",
    "df['hour11'] = df['hour'].map(lambda x: float(x==11))\n",
    "df['hour12'] = df['hour'].map(lambda x: float(x==12))\n",
    "df['hour13'] = df['hour'].map(lambda x: float(x==13))\n",
    "df['hour14'] = df['hour'].map(lambda x: float(x==14))\n",
    "df['hour15'] = df['hour'].map(lambda x: float(x==15))\n",
    "df['hour16'] = df['hour'].map(lambda x: float(x==16))\n",
    "df['hour17'] = df['hour'].map(lambda x: float(x==17))\n",
    "df['hour18'] = df['hour'].map(lambda x: float(x==18))\n",
    "df['hour19'] = df['hour'].map(lambda x: float(x==19))\n",
    "df['hour20'] = df['hour'].map(lambda x: float(x==20))\n",
    "df['hour21'] = df['hour'].map(lambda x: float(x==21))\n",
    "df['hour22'] = df['hour'].map(lambda x: float(x==22))\n",
    "df['hour23'] = df['hour'].map(lambda x: float(x==23))\n",
    "df['hour24'] = df['hour'].map(lambda x: float(x==0))"
   ]
  },
  {
   "cell_type": "code",
   "execution_count": 88,
   "metadata": {
    "collapsed": false
   },
   "outputs": [
    {
     "name": "stdout",
     "output_type": "stream",
     "text": [
      "<class 'pandas.core.frame.DataFrame'>\n",
      "Int64Index: 10886 entries, 0 to 10885\n",
      "Data columns (total 45 columns):\n",
      "datetime      10886 non-null object\n",
      "season        10886 non-null int64\n",
      "holiday       10886 non-null int64\n",
      "workingday    10886 non-null int64\n",
      "weather       10886 non-null int64\n",
      "temp          10886 non-null float64\n",
      "atemp         10886 non-null float64\n",
      "humidity      10886 non-null int64\n",
      "windspeed     10886 non-null float64\n",
      "casual        10886 non-null int64\n",
      "registered    10886 non-null int64\n",
      "count         10886 non-null int64\n",
      "year          10886 non-null float64\n",
      "month         10886 non-null float64\n",
      "date          10886 non-null float64\n",
      "hour          10886 non-null float64\n",
      "weather1      10886 non-null float64\n",
      "weather2      10886 non-null float64\n",
      "weather3      10886 non-null float64\n",
      "weather4      10886 non-null float64\n",
      "weekday       10886 non-null float64\n",
      "hour1         10886 non-null float64\n",
      "hour2         10886 non-null float64\n",
      "hour3         10886 non-null float64\n",
      "hour4         10886 non-null float64\n",
      "hour5         10886 non-null float64\n",
      "hour6         10886 non-null float64\n",
      "hour7         10886 non-null float64\n",
      "hour8         10886 non-null float64\n",
      "hour9         10886 non-null float64\n",
      "hour10        10886 non-null float64\n",
      "hour11        10886 non-null float64\n",
      "hour12        10886 non-null float64\n",
      "hour13        10886 non-null float64\n",
      "hour14        10886 non-null float64\n",
      "hour15        10886 non-null float64\n",
      "hour16        10886 non-null float64\n",
      "hour17        10886 non-null float64\n",
      "hour18        10886 non-null float64\n",
      "hour19        10886 non-null float64\n",
      "hour20        10886 non-null float64\n",
      "hour21        10886 non-null float64\n",
      "hour22        10886 non-null float64\n",
      "hour23        10886 non-null float64\n",
      "hour24        10886 non-null float64\n",
      "dtypes: float64(36), int64(8), object(1)\n",
      "memory usage: 3.8+ MB\n"
     ]
    }
   ],
   "source": [
    "df.info()"
   ]
  },
  {
   "cell_type": "code",
   "execution_count": 89,
   "metadata": {
    "collapsed": false
   },
   "outputs": [],
   "source": [
    "#for the test data\n",
    "from datetime import date as datepy\n",
    "\n",
    "year_test = np.zeros(len(df_test))\n",
    "month_test = np.zeros(len(df_test))\n",
    "date_test = np.zeros(len(df_test))\n",
    "hour_test = np.zeros(len(df_test))\n",
    "minute_test = np.zeros(len(df_test))\n",
    "second_test = np.zeros(len(df_test))\n",
    "weekday_test = np.zeros(len(df_test))\n",
    "\n",
    "for i in range(len(df_test.datetime)):\n",
    "    year_test[i] = df_test['datetime'][i][0:4]\n",
    "    month_test[i] = df_test['datetime'][i][5:7]\n",
    "    date_test[i] = df_test['datetime'][i][8:10]\n",
    "    hour_test[i] = df_test['datetime'][i][11:13]\n",
    "    weekday_test[i] = datepy(int(year_test[i]),int(month_test[i]),int(date_test[i])).isoweekday()\n",
    "\n",
    "\n",
    "df_test['year'] = year_test\n",
    "df_test['month'] = month_test\n",
    "df_test['date'] = date_test\n",
    "df_test['hour'] = hour_test\n",
    "df_test['weather1'] = df_test['weather'].map(lambda x: float(x==1))\n",
    "df_test['weather2'] = df_test['weather'].map(lambda x: float(x==2))\n",
    "df_test['weather3'] = df_test['weather'].map(lambda x: float(x==3))\n",
    "df_test['weather4'] = df_test['weather'].map(lambda x: float(x==4))\n",
    "df_test['weekday'] = weekday_test\n",
    "\n",
    "df_test['hour1'] = df_test['hour'].map(lambda x: float(x==1))\n",
    "df_test['hour2'] = df_test['hour'].map(lambda x: float(x==2))\n",
    "df_test['hour3'] = df_test['hour'].map(lambda x: float(x==3))\n",
    "df_test['hour4'] = df_test['hour'].map(lambda x: float(x==4))\n",
    "df_test['hour5'] = df_test['hour'].map(lambda x: float(x==5))\n",
    "df_test['hour6'] = df_test['hour'].map(lambda x: float(x==6))\n",
    "df_test['hour7'] = df_test['hour'].map(lambda x: float(x==7))\n",
    "df_test['hour8'] = df_test['hour'].map(lambda x: float(x==8))\n",
    "df_test['hour9'] = df_test['hour'].map(lambda x: float(x==9))\n",
    "df_test['hour10'] = df_test['hour'].map(lambda x: float(x==10))\n",
    "df_test['hour11'] = df_test['hour'].map(lambda x: float(x==11))\n",
    "df_test['hour12'] = df_test['hour'].map(lambda x: float(x==12))\n",
    "df_test['hour13'] = df_test['hour'].map(lambda x: float(x==13))\n",
    "df_test['hour14'] = df_test['hour'].map(lambda x: float(x==14))\n",
    "df_test['hour15'] = df_test['hour'].map(lambda x: float(x==15))\n",
    "df_test['hour16'] = df_test['hour'].map(lambda x: float(x==16))\n",
    "df_test['hour17'] = df_test['hour'].map(lambda x: float(x==17))\n",
    "df_test['hour18'] = df_test['hour'].map(lambda x: float(x==18))\n",
    "df_test['hour19'] = df_test['hour'].map(lambda x: float(x==19))\n",
    "df_test['hour20'] = df_test['hour'].map(lambda x: float(x==20))\n",
    "df_test['hour21'] = df_test['hour'].map(lambda x: float(x==21))\n",
    "df_test['hour22'] = df_test['hour'].map(lambda x: float(x==22))\n",
    "df_test['hour23'] = df_test['hour'].map(lambda x: float(x==23))\n",
    "df_test['hour24'] = df_test['hour'].map(lambda x: float(x==0))"
   ]
  },
  {
   "cell_type": "code",
   "execution_count": 90,
   "metadata": {
    "collapsed": false
   },
   "outputs": [],
   "source": [
    "X = df.drop(['datetime','casual','registered'],axis =1 )\n",
    "y = X['count'][0::]\n",
    "y = y.values\n",
    "X = X.drop(['count'],axis = 1)\n",
    "X = X.values"
   ]
  },
  {
   "cell_type": "code",
   "execution_count": 91,
   "metadata": {
    "collapsed": false
   },
   "outputs": [],
   "source": [
    "# for the test value\n",
    "X_test = df_test.drop(['datetime'],axis =1 )\n",
    "X_test = X_test.values"
   ]
  },
  {
   "cell_type": "raw",
   "metadata": {},
   "source": [
    "Data is clean and ready to be trained. We will use the randomforest regressor to first try to train it. Casual and registered is dropped since its not there either in the test set."
   ]
  },
  {
   "cell_type": "code",
   "execution_count": 94,
   "metadata": {
    "collapsed": false
   },
   "outputs": [
    {
     "name": "stdout",
     "output_type": "stream",
     "text": [
      "[ 0.59346356  0.85849165  0.87046187  0.86544787]\n"
     ]
    }
   ],
   "source": [
    "from sklearn.ensemble import RandomForestRegressor\n",
    "from sklearn.cross_validation import train_test_split\n",
    "from sklearn.cross_validation import cross_val_score\n",
    "\n",
    "# X_train, X_test, y_train, y_test = train_test_split(X, y)\n",
    "# X_train.shape, X_test.shape\n",
    "\n",
    "#testing out the cross val score\n",
    "print( cross_val_score(RandomForestRegressor(20,max_depth=15), X, y, cv=4) )\n"
   ]
  },
  {
   "cell_type": "code",
   "execution_count": 124,
   "metadata": {
    "collapsed": false
   },
   "outputs": [
    {
     "name": "stdout",
     "output_type": "stream",
     "text": [
      "[  7.68670619e-03   1.60503446e-03   5.21677949e-02   6.48090516e-03\n",
      "   7.85132390e-02   2.64571926e-02   2.65160154e-02   6.66295297e-03\n",
      "   8.86777216e-02   4.25728996e-02   9.33314687e-03   4.73658745e-01\n",
      "   1.04312998e-03   7.75933505e-04   6.00269481e-03   5.05659757e-06\n",
      "   4.25947293e-02   9.54184407e-05   1.64996522e-04   4.66341580e-05\n",
      "   1.27658613e-06   1.19867521e-04   1.32209694e-03   3.49287052e-03\n",
      "   2.77727861e-02   1.99482121e-03   2.76423850e-03   6.62843775e-04\n",
      "   2.06239241e-04   2.51325003e-04   2.70406626e-04   1.72591021e-04\n",
      "   2.98587128e-03   4.40270707e-02   3.28952882e-02   5.17549981e-03\n",
      "   1.72818497e-03   8.79146438e-04   3.18470238e-04   1.65414381e-03\n",
      "   2.44014295e-04]\n",
      "<class 'pandas.core.frame.DataFrame'>\n",
      "Int64Index: 10886 entries, 0 to 10885\n",
      "Data columns (total 45 columns):\n",
      "datetime      10886 non-null object\n",
      "season        10886 non-null int64\n",
      "holiday       10886 non-null int64\n",
      "workingday    10886 non-null int64\n",
      "weather       10886 non-null int64\n",
      "temp          10886 non-null float64\n",
      "atemp         10886 non-null float64\n",
      "humidity      10886 non-null int64\n",
      "windspeed     10886 non-null float64\n",
      "casual        10886 non-null int64\n",
      "registered    10886 non-null int64\n",
      "count         10886 non-null int64\n",
      "year          10886 non-null float64\n",
      "month         10886 non-null float64\n",
      "date          10886 non-null float64\n",
      "hour          10886 non-null float64\n",
      "weather1      10886 non-null float64\n",
      "weather2      10886 non-null float64\n",
      "weather3      10886 non-null float64\n",
      "weather4      10886 non-null float64\n",
      "weekday       10886 non-null float64\n",
      "hour1         10886 non-null float64\n",
      "hour2         10886 non-null float64\n",
      "hour3         10886 non-null float64\n",
      "hour4         10886 non-null float64\n",
      "hour5         10886 non-null float64\n",
      "hour6         10886 non-null float64\n",
      "hour7         10886 non-null float64\n",
      "hour8         10886 non-null float64\n",
      "hour9         10886 non-null float64\n",
      "hour10        10886 non-null float64\n",
      "hour11        10886 non-null float64\n",
      "hour12        10886 non-null float64\n",
      "hour13        10886 non-null float64\n",
      "hour14        10886 non-null float64\n",
      "hour15        10886 non-null float64\n",
      "hour16        10886 non-null float64\n",
      "hour17        10886 non-null float64\n",
      "hour18        10886 non-null float64\n",
      "hour19        10886 non-null float64\n",
      "hour20        10886 non-null float64\n",
      "hour21        10886 non-null float64\n",
      "hour22        10886 non-null float64\n",
      "hour23        10886 non-null float64\n",
      "hour24        10886 non-null float64\n",
      "dtypes: float64(36), int64(8), object(1)\n",
      "memory usage: 3.8+ MB\n",
      "None\n"
     ]
    },
    {
     "data": {
      "text/plain": [
       "<matplotlib.collections.PathCollection at 0x109b7ff28>"
      ]
     },
     "execution_count": 124,
     "metadata": {},
     "output_type": "execute_result"
    },
    {
     "data": {
      "image/png": "[encoded data removed]",
      "text/plain": [
       "<matplotlib.figure.Figure at 0x10a632828>"
      ]
     },
     "metadata": {},
     "output_type": "display_data"
    }
   ],
   "source": [
    "model = RandomForestRegressor(25,max_depth = 17).fit(X,y)\n",
    "print(model.feature_importances_)\n",
    "print(df.info())\n",
    "plt.scatter(range(41),model.feature_importances_)"
   ]
  },
  {
   "cell_type": "markdown",
   "metadata": {},
   "source": [
    "Plotting the validation curve, define the scoring by rms error, and plot with error bar."
   ]
  },
  {
   "cell_type": "code",
   "execution_count": 95,
   "metadata": {
    "collapsed": false
   },
   "outputs": [],
   "source": [
    "from sklearn.learning_curve import validation_curve\n",
    "\n",
    "def rms_error(model, X, y):\n",
    "    y_pred = model.predict(X)\n",
    "    return np.sqrt(np.mean((np.log(y_pred+1)-np.log(y+1)) ** 2))\n",
    "def plot_with_err(x, data, **kwargs):\n",
    "    mu, std = data.mean(1), data.std(1)\n",
    "    lines = plt.plot(x, mu, '-', **kwargs)\n",
    "    plt.fill_between(x, mu - std, mu + std, edgecolor='none',\n",
    "                     facecolor=lines[0].get_color(), alpha=0.2)\n",
    "    \n"
   ]
  },
  {
   "cell_type": "code",
   "execution_count": 99,
   "metadata": {
    "collapsed": false
   },
   "outputs": [
    {
     "data": {
      "image/png": "[encoded data removed]",
      "text/plain": [
       "<matplotlib.figure.Figure at 0x10641ce48>"
      ]
     },
     "metadata": {},
     "output_type": "display_data"
    }
   ],
   "source": [
    "#varying the n_estimators\n",
    "n_est = range(1,100,10)\n",
    "val_train, val_test = validation_curve(RandomForestRegressor(max_depth = 17), X, y,\n",
    "                                       'n_estimators',n_est, cv=10,\n",
    "                                       scoring=rms_error)\n",
    "plot_with_err(n_est, val_train, label='training scores')\n",
    "plot_with_err(n_est, val_test, label='validation scores')\n",
    "plt.xlabel('n_est'); plt.ylabel('rms error')\n",
    "plt.legend();"
   ]
  },
  {
   "cell_type": "code",
   "execution_count": 96,
   "metadata": {
    "collapsed": false
   },
   "outputs": [
    {
     "data": {
      "image/png": "[encoded data removed]",
      "text/plain": [
       "<matplotlib.figure.Figure at 0x109803860>"
      ]
     },
     "metadata": {},
     "output_type": "display_data"
    }
   ],
   "source": [
    "#varying the max_depth\n",
    "depth = range(1,50,4)\n",
    "val_train, val_test = validation_curve(RandomForestRegressor(n_estimators = 20), X, y,\n",
    "                                       'max_depth',depth, cv=10,\n",
    "                                       scoring=rms_error)\n",
    "plot_with_err(depth, val_train, label='training scores')\n",
    "plot_with_err(depth, val_test, label='validation scores')\n",
    "plt.xlabel('depth'); plt.ylabel('rms error')\n",
    "plt.legend();"
   ]
  },
  {
   "cell_type": "markdown",
   "metadata": {},
   "source": [
    "From the first trial of plotting validation curve, it seems like with max_depth ~ 7 to 12, and n_estimators = 15 to 20, the model seems to perform well enough in cross validation data. Now we plot the learning curve."
   ]
  },
  {
   "cell_type": "code",
   "execution_count": 125,
   "metadata": {
    "collapsed": false
   },
   "outputs": [],
   "source": [
    "from sklearn.learning_curve import learning_curve\n",
    "\n",
    "def plot_learning_curve(n_est = 200,depth = 20):\n",
    "    train_sizes = np.linspace(0.05, 1, 20)\n",
    "    N_train, val_train, val_test = learning_curve(RandomForestRegressor(n_estimators=n_est,max_depth=depth),\n",
    "                                                  X, y, train_sizes, cv=5,\n",
    "                                                  scoring=rms_error)\n",
    "    plot_with_err(N_train, val_train, label='training scores')\n",
    "    plot_with_err(N_train, val_test, label='validation scores')\n",
    "    plt.xlabel('Training Set Size'); plt.ylabel('rms error')\n",
    "    #plt.ylim(0, 0.1)\n",
    "    #plt.xlim(5, 80)\n",
    "    plt.legend()    "
   ]
  },
  {
   "cell_type": "code",
   "execution_count": 126,
   "metadata": {
    "collapsed": false
   },
   "outputs": [
    {
     "data": {
      "image/png": "[encoded data removed]",
      "text/plain": [
       "<matplotlib.figure.Figure at 0x109b7f7b8>"
      ]
     },
     "metadata": {},
     "output_type": "display_data"
    }
   ],
   "source": [
    "plot_learning_curve(200,19)"
   ]
  },
  {
   "cell_type": "code",
   "execution_count": 104,
   "metadata": {
    "collapsed": false
   },
   "outputs": [
    {
     "data": {
      "image/png": "[encoded data removed]",
      "text/plain": [
       "<matplotlib.figure.Figure at 0x10973ccf8>"
      ]
     },
     "metadata": {},
     "output_type": "display_data"
    }
   ],
   "source": [
    "plot_learning_curve(25,17)"
   ]
  },
  {
   "cell_type": "markdown",
   "metadata": {},
   "source": [
    "Calculating for the test value"
   ]
  },
  {
   "cell_type": "code",
   "execution_count": 84,
   "metadata": {
    "collapsed": false
   },
   "outputs": [],
   "source": [
    "y_test = RandomForestRegressor(n_estimators=20,max_depth=13).fit(X,y).predict(X_test)\n",
    "resultdf = pd.DataFrame(df_test['datetime'])\n",
    "resultdf['count'] = y_test\n",
    "resultdf.to_csv('randomforest.csv',index=False)"
   ]
  },
  {
   "cell_type": "code",
   "execution_count": 98,
   "metadata": {
    "collapsed": false
   },
   "outputs": [
    {
     "data": {
      "text/html": [
       "<div style=\"max-height:1000px;max-width:1500px;overflow:auto;\">\n",
       "<table border=\"1\" class=\"dataframe\">\n",
       "  <thead>\n",
       "    <tr style=\"text-align: right;\">\n",
       "      <th></th>\n",
       "      <th>datetime</th>\n",
       "      <th>season</th>\n",
       "      <th>holiday</th>\n",
       "      <th>workingday</th>\n",
       "      <th>weather</th>\n",
       "      <th>temp</th>\n",
       "      <th>atemp</th>\n",
       "      <th>humidity</th>\n",
       "      <th>windspeed</th>\n",
       "      <th>year</th>\n",
       "      <th>...</th>\n",
       "      <th>hour15</th>\n",
       "      <th>hour16</th>\n",
       "      <th>hour17</th>\n",
       "      <th>hour18</th>\n",
       "      <th>hour19</th>\n",
       "      <th>hour20</th>\n",
       "      <th>hour21</th>\n",
       "      <th>hour22</th>\n",
       "      <th>hour23</th>\n",
       "      <th>hour24</th>\n",
       "    </tr>\n",
       "  </thead>\n",
       "  <tbody>\n",
       "    <tr>\n",
       "      <th>0</th>\n",
       "      <td>2011-01-20 00:00:00</td>\n",
       "      <td>1</td>\n",
       "      <td>0</td>\n",
       "      <td>1</td>\n",
       "      <td>1</td>\n",
       "      <td>10.66</td>\n",
       "      <td>11.365</td>\n",
       "      <td>56</td>\n",
       "      <td>26.0027</td>\n",
       "      <td>2011</td>\n",
       "      <td>...</td>\n",
       "      <td>0</td>\n",
       "      <td>0</td>\n",
       "      <td>0</td>\n",
       "      <td>0</td>\n",
       "      <td>0</td>\n",
       "      <td>0</td>\n",
       "      <td>0</td>\n",
       "      <td>0</td>\n",
       "      <td>0</td>\n",
       "      <td>1</td>\n",
       "    </tr>\n",
       "    <tr>\n",
       "      <th>1</th>\n",
       "      <td>2011-01-20 01:00:00</td>\n",
       "      <td>1</td>\n",
       "      <td>0</td>\n",
       "      <td>1</td>\n",
       "      <td>1</td>\n",
       "      <td>10.66</td>\n",
       "      <td>13.635</td>\n",
       "      <td>56</td>\n",
       "      <td>0.0000</td>\n",
       "      <td>2011</td>\n",
       "      <td>...</td>\n",
       "      <td>0</td>\n",
       "      <td>0</td>\n",
       "      <td>0</td>\n",
       "      <td>0</td>\n",
       "      <td>0</td>\n",
       "      <td>0</td>\n",
       "      <td>0</td>\n",
       "      <td>0</td>\n",
       "      <td>0</td>\n",
       "      <td>0</td>\n",
       "    </tr>\n",
       "    <tr>\n",
       "      <th>2</th>\n",
       "      <td>2011-01-20 02:00:00</td>\n",
       "      <td>1</td>\n",
       "      <td>0</td>\n",
       "      <td>1</td>\n",
       "      <td>1</td>\n",
       "      <td>10.66</td>\n",
       "      <td>13.635</td>\n",
       "      <td>56</td>\n",
       "      <td>0.0000</td>\n",
       "      <td>2011</td>\n",
       "      <td>...</td>\n",
       "      <td>0</td>\n",
       "      <td>0</td>\n",
       "      <td>0</td>\n",
       "      <td>0</td>\n",
       "      <td>0</td>\n",
       "      <td>0</td>\n",
       "      <td>0</td>\n",
       "      <td>0</td>\n",
       "      <td>0</td>\n",
       "      <td>0</td>\n",
       "    </tr>\n",
       "    <tr>\n",
       "      <th>3</th>\n",
       "      <td>2011-01-20 03:00:00</td>\n",
       "      <td>1</td>\n",
       "      <td>0</td>\n",
       "      <td>1</td>\n",
       "      <td>1</td>\n",
       "      <td>10.66</td>\n",
       "      <td>12.880</td>\n",
       "      <td>56</td>\n",
       "      <td>11.0014</td>\n",
       "      <td>2011</td>\n",
       "      <td>...</td>\n",
       "      <td>0</td>\n",
       "      <td>0</td>\n",
       "      <td>0</td>\n",
       "      <td>0</td>\n",
       "      <td>0</td>\n",
       "      <td>0</td>\n",
       "      <td>0</td>\n",
       "      <td>0</td>\n",
       "      <td>0</td>\n",
       "      <td>0</td>\n",
       "    </tr>\n",
       "    <tr>\n",
       "      <th>4</th>\n",
       "      <td>2011-01-20 04:00:00</td>\n",
       "      <td>1</td>\n",
       "      <td>0</td>\n",
       "      <td>1</td>\n",
       "      <td>1</td>\n",
       "      <td>10.66</td>\n",
       "      <td>12.880</td>\n",
       "      <td>56</td>\n",
       "      <td>11.0014</td>\n",
       "      <td>2011</td>\n",
       "      <td>...</td>\n",
       "      <td>0</td>\n",
       "      <td>0</td>\n",
       "      <td>0</td>\n",
       "      <td>0</td>\n",
       "      <td>0</td>\n",
       "      <td>0</td>\n",
       "      <td>0</td>\n",
       "      <td>0</td>\n",
       "      <td>0</td>\n",
       "      <td>0</td>\n",
       "    </tr>\n",
       "  </tbody>\n",
       "</table>\n",
       "<p>5 rows × 42 columns</p>\n",
       "</div>"
      ],
      "text/plain": [
       "              datetime  season  holiday  workingday  weather   temp   atemp  \\\n",
       "0  2011-01-20 00:00:00       1        0           1        1  10.66  11.365   \n",
       "1  2011-01-20 01:00:00       1        0           1        1  10.66  13.635   \n",
       "2  2011-01-20 02:00:00       1        0           1        1  10.66  13.635   \n",
       "3  2011-01-20 03:00:00       1        0           1        1  10.66  12.880   \n",
       "4  2011-01-20 04:00:00       1        0           1        1  10.66  12.880   \n",
       "\n",
       "   humidity  windspeed  year   ...    hour15  hour16  hour17  hour18  hour19  \\\n",
       "0        56    26.0027  2011   ...         0       0       0       0       0   \n",
       "1        56     0.0000  2011   ...         0       0       0       0       0   \n",
       "2        56     0.0000  2011   ...         0       0       0       0       0   \n",
       "3        56    11.0014  2011   ...         0       0       0       0       0   \n",
       "4        56    11.0014  2011   ...         0       0       0       0       0   \n",
       "\n",
       "   hour20  hour21  hour22  hour23  hour24  \n",
       "0       0       0       0       0       1  \n",
       "1       0       0       0       0       0  \n",
       "2       0       0       0       0       0  \n",
       "3       0       0       0       0       0  \n",
       "4       0       0       0       0       0  \n",
       "\n",
       "[5 rows x 42 columns]"
      ]
     },
     "execution_count": 98,
     "metadata": {},
     "output_type": "execute_result"
    }
   ],
   "source": [
    "df_test.head()"
   ]
  },
  {
   "cell_type": "code",
   "execution_count": 86,
   "metadata": {
    "collapsed": false
   },
   "outputs": [
    {
     "data": {
      "text/html": [
       "<div style=\"max-height:1000px;max-width:1500px;overflow:auto;\">\n",
       "<table border=\"1\" class=\"dataframe\">\n",
       "  <thead>\n",
       "    <tr style=\"text-align: right;\">\n",
       "      <th></th>\n",
       "      <th>datetime</th>\n",
       "      <th>season</th>\n",
       "      <th>holiday</th>\n",
       "      <th>workingday</th>\n",
       "      <th>weather</th>\n",
       "      <th>temp</th>\n",
       "      <th>atemp</th>\n",
       "      <th>humidity</th>\n",
       "      <th>windspeed</th>\n",
       "      <th>casual</th>\n",
       "      <th>...</th>\n",
       "      <th>count</th>\n",
       "      <th>year</th>\n",
       "      <th>month</th>\n",
       "      <th>date</th>\n",
       "      <th>hour</th>\n",
       "      <th>weather1</th>\n",
       "      <th>weather2</th>\n",
       "      <th>weather3</th>\n",
       "      <th>weather4</th>\n",
       "      <th>weekday</th>\n",
       "    </tr>\n",
       "  </thead>\n",
       "  <tbody>\n",
       "    <tr>\n",
       "      <th>0</th>\n",
       "      <td>2011-01-01 00:00:00</td>\n",
       "      <td>1</td>\n",
       "      <td>0</td>\n",
       "      <td>0</td>\n",
       "      <td>1</td>\n",
       "      <td>9.84</td>\n",
       "      <td>14.395</td>\n",
       "      <td>81</td>\n",
       "      <td>0</td>\n",
       "      <td>3</td>\n",
       "      <td>...</td>\n",
       "      <td>16</td>\n",
       "      <td>2011</td>\n",
       "      <td>1</td>\n",
       "      <td>1</td>\n",
       "      <td>0</td>\n",
       "      <td>1</td>\n",
       "      <td>0</td>\n",
       "      <td>0</td>\n",
       "      <td>0</td>\n",
       "      <td>6</td>\n",
       "    </tr>\n",
       "    <tr>\n",
       "      <th>1</th>\n",
       "      <td>2011-01-01 01:00:00</td>\n",
       "      <td>1</td>\n",
       "      <td>0</td>\n",
       "      <td>0</td>\n",
       "      <td>1</td>\n",
       "      <td>9.02</td>\n",
       "      <td>13.635</td>\n",
       "      <td>80</td>\n",
       "      <td>0</td>\n",
       "      <td>8</td>\n",
       "      <td>...</td>\n",
       "      <td>40</td>\n",
       "      <td>2011</td>\n",
       "      <td>1</td>\n",
       "      <td>1</td>\n",
       "      <td>1</td>\n",
       "      <td>1</td>\n",
       "      <td>0</td>\n",
       "      <td>0</td>\n",
       "      <td>0</td>\n",
       "      <td>6</td>\n",
       "    </tr>\n",
       "    <tr>\n",
       "      <th>2</th>\n",
       "      <td>2011-01-01 02:00:00</td>\n",
       "      <td>1</td>\n",
       "      <td>0</td>\n",
       "      <td>0</td>\n",
       "      <td>1</td>\n",
       "      <td>9.02</td>\n",
       "      <td>13.635</td>\n",
       "      <td>80</td>\n",
       "      <td>0</td>\n",
       "      <td>5</td>\n",
       "      <td>...</td>\n",
       "      <td>32</td>\n",
       "      <td>2011</td>\n",
       "      <td>1</td>\n",
       "      <td>1</td>\n",
       "      <td>2</td>\n",
       "      <td>1</td>\n",
       "      <td>0</td>\n",
       "      <td>0</td>\n",
       "      <td>0</td>\n",
       "      <td>6</td>\n",
       "    </tr>\n",
       "    <tr>\n",
       "      <th>3</th>\n",
       "      <td>2011-01-01 03:00:00</td>\n",
       "      <td>1</td>\n",
       "      <td>0</td>\n",
       "      <td>0</td>\n",
       "      <td>1</td>\n",
       "      <td>9.84</td>\n",
       "      <td>14.395</td>\n",
       "      <td>75</td>\n",
       "      <td>0</td>\n",
       "      <td>3</td>\n",
       "      <td>...</td>\n",
       "      <td>13</td>\n",
       "      <td>2011</td>\n",
       "      <td>1</td>\n",
       "      <td>1</td>\n",
       "      <td>3</td>\n",
       "      <td>1</td>\n",
       "      <td>0</td>\n",
       "      <td>0</td>\n",
       "      <td>0</td>\n",
       "      <td>6</td>\n",
       "    </tr>\n",
       "    <tr>\n",
       "      <th>4</th>\n",
       "      <td>2011-01-01 04:00:00</td>\n",
       "      <td>1</td>\n",
       "      <td>0</td>\n",
       "      <td>0</td>\n",
       "      <td>1</td>\n",
       "      <td>9.84</td>\n",
       "      <td>14.395</td>\n",
       "      <td>75</td>\n",
       "      <td>0</td>\n",
       "      <td>0</td>\n",
       "      <td>...</td>\n",
       "      <td>1</td>\n",
       "      <td>2011</td>\n",
       "      <td>1</td>\n",
       "      <td>1</td>\n",
       "      <td>4</td>\n",
       "      <td>1</td>\n",
       "      <td>0</td>\n",
       "      <td>0</td>\n",
       "      <td>0</td>\n",
       "      <td>6</td>\n",
       "    </tr>\n",
       "  </tbody>\n",
       "</table>\n",
       "<p>5 rows × 21 columns</p>\n",
       "</div>"
      ],
      "text/plain": [
       "              datetime  season  holiday  workingday  weather  temp   atemp  \\\n",
       "0  2011-01-01 00:00:00       1        0           0        1  9.84  14.395   \n",
       "1  2011-01-01 01:00:00       1        0           0        1  9.02  13.635   \n",
       "2  2011-01-01 02:00:00       1        0           0        1  9.02  13.635   \n",
       "3  2011-01-01 03:00:00       1        0           0        1  9.84  14.395   \n",
       "4  2011-01-01 04:00:00       1        0           0        1  9.84  14.395   \n",
       "\n",
       "   humidity  windspeed  casual   ...     count  year  month  date  hour  \\\n",
       "0        81          0       3   ...        16  2011      1     1     0   \n",
       "1        80          0       8   ...        40  2011      1     1     1   \n",
       "2        80          0       5   ...        32  2011      1     1     2   \n",
       "3        75          0       3   ...        13  2011      1     1     3   \n",
       "4        75          0       0   ...         1  2011      1     1     4   \n",
       "\n",
       "   weather1  weather2  weather3  weather4  weekday  \n",
       "0         1         0         0         0        6  \n",
       "1         1         0         0         0        6  \n",
       "2         1         0         0         0        6  \n",
       "3         1         0         0         0        6  \n",
       "4         1         0         0         0        6  \n",
       "\n",
       "[5 rows x 21 columns]"
      ]
     },
     "execution_count": 86,
     "metadata": {},
     "output_type": "execute_result"
    }
   ],
   "source": [
    "df.head()"
   ]
  },
  {
   "cell_type": "code",
   "execution_count": 281,
   "metadata": {
    "collapsed": false
   },
   "outputs": [
    {
     "data": {
      "text/plain": [
       "<matplotlib.collections.PathCollection at 0x10b9f77f0>"
      ]
     },
     "execution_count": 281,
     "metadata": {},
     "output_type": "execute_result"
    },
    {
     "data": {
      "image/png": "[encoded data removed]",
      "text/plain": [
       "<matplotlib.figure.Figure at 0x10d57ac50>"
      ]
     },
     "metadata": {},
     "output_type": "display_data"
    }
   ],
   "source": [
    "plt.scatter(range(len(df[0:24])),df['count'][0:24])"
   ]
  },
  {
   "cell_type": "code",
   "execution_count": 282,
   "metadata": {
    "collapsed": false
   },
   "outputs": [
    {
     "data": {
      "text/plain": [
       "<matplotlib.collections.PathCollection at 0x10acc26d8>"
      ]
     },
     "execution_count": 282,
     "metadata": {},
     "output_type": "execute_result"
    },
    {
     "data": {
      "image/png": "[encoded data removed]",
      "text/plain": [
       "<matplotlib.figure.Figure at 0x10d282198>"
      ]
     },
     "metadata": {},
     "output_type": "display_data"
    }
   ],
   "source": [
    "plt.scatter(range(len(df[24:48])),df['count'][24:48])"
   ]
  },
  {
   "cell_type": "code",
   "execution_count": 280,
   "metadata": {
    "collapsed": false
   },
   "outputs": [
    {
     "data": {
      "text/plain": [
       "0     1\n",
       "1     1\n",
       "2     1\n",
       "3     1\n",
       "4     1\n",
       "5     1\n",
       "6     1\n",
       "7     1\n",
       "8     1\n",
       "9     1\n",
       "10    1\n",
       "11    1\n",
       "12    1\n",
       "13    1\n",
       "14    1\n",
       "15    1\n",
       "16    1\n",
       "17    1\n",
       "18    1\n",
       "19    1\n",
       "Name: date, dtype: float64"
      ]
     },
     "execution_count": 280,
     "metadata": {},
     "output_type": "execute_result"
    }
   ],
   "source": [
    "df.date[0:20]"
   ]
  },
  {
   "cell_type": "code",
   "execution_count": null,
   "metadata": {
    "collapsed": true
   },
   "outputs": [],
   "source": []
  }
 ],
 "metadata": {
  "kernelspec": {
   "display_name": "Python 3",
   "language": "python",
   "name": "python3"
  },
  "language_info": {
   "codemirror_mode": {
    "name": "ipython",
    "version": 3
   },
   "file_extension": ".py",
   "mimetype": "text/x-python",
   "name": "python",
   "nbconvert_exporter": "python",
   "pygments_lexer": "ipython3",
   "version": "3.4.3"
  }
 },
 "nbformat": 4,
 "nbformat_minor": 0
}
